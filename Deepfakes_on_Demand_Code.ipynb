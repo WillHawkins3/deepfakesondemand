{
  "nbformat": 4,
  "nbformat_minor": 0,
  "metadata": {
    "colab": {
      "provenance": [],
      "authorship_tag": "ABX9TyP+hemYzFri12/RVLkSPWZY",
      "include_colab_link": true
    },
    "kernelspec": {
      "name": "python3",
      "display_name": "Python 3"
    },
    "language_info": {
      "name": "python"
    }
  },
  "cells": [
    {
      "cell_type": "markdown",
      "metadata": {
        "id": "view-in-github",
        "colab_type": "text"
      },
      "source": [
        "<a href=\"https://colab.research.google.com/github/WillHawkins3/deepfakesondemand/blob/main/Deepfakes_on_Demand_Code.ipynb\" target=\"_parent\"><img src=\"https://colab.research.google.com/assets/colab-badge.svg\" alt=\"Open In Colab\"/></a>"
      ]
    },
    {
      "cell_type": "markdown",
      "source": [
        "# Imports"
      ],
      "metadata": {
        "id": "X5MM_wVZ0LIJ"
      }
    },
    {
      "cell_type": "code",
      "execution_count": null,
      "metadata": {
        "id": "nQU1eXh-czKi"
      },
      "outputs": [],
      "source": [
        "from huggingface_hub import notebook_login\n",
        "from huggingface_hub import HfApi\n",
        "from google.colab import drive\n",
        "from huggingface_hub import HfApi\n",
        "import pandas as pd\n",
        "import requests\n",
        "import os\n",
        "from datetime import datetime\n",
        "import time\n",
        "\n",
        "\n",
        "\n",
        "drive.mount('/content/drive')\n"
      ]
    },
    {
      "cell_type": "markdown",
      "source": [
        "# Platform API Code"
      ],
      "metadata": {
        "id": "iUVLwoUpc-F_"
      }
    },
    {
      "cell_type": "markdown",
      "source": [
        "## Hugging Face"
      ],
      "metadata": {
        "id": "283gsQttdFA9"
      }
    },
    {
      "cell_type": "code",
      "source": [
        "\n",
        "def search_huggingface_models(search_term='stable diffusion', task='text-to-image'): # replace search term with model names of interest (e.g. \"Flux\", \"SD\")\n",
        "\n",
        "    # Initialize API\n",
        "    api = HfApi()\n",
        "\n",
        "    # Search models\n",
        "    try:\n",
        "        search_results = api.list_models(\n",
        "            search=search_term,\n",
        "            task=task,\n",
        "            full=True\n",
        "        )\n",
        "\n",
        "        model_data = []\n",
        "        for model in search_results:\n",
        "            model_info = {\n",
        "                'Model ID': model.id,\n",
        "                'Author': model.author,\n",
        "                'Downloads': model.downloads,\n",
        "                'Likes': model.likes,\n",
        "                'Downloads all time': model.downloads_all_time,\n",
        "                'Created Date': model.created_at,\n",
        "            }\n",
        "            model_data.append(model_info)\n",
        "\n",
        "        # Convert to df\n",
        "        df = pd.DataFrame(model_data)\n",
        "\n",
        "        return df\n",
        "\n",
        "    except Exception as e:\n",
        "        print(f\"An error occurred during the search: {e}\")\n",
        "        return pd.DataFrame()  # Return empty df if error\n",
        "\n",
        "if __name__ == \"__main__\":\n",
        "    sd_models = search_huggingface_models('stable diffusion', 'text-to-image')\n",
        "\n",
        "    print(sd_models)\n",
        "\n",
        "    sd_models.to_csv('/content/drive/My Drive/insert-file-name.csv', index=False)\n",
        "\n",
        "def list_available_tasks():\n",
        "    api = HfApi()\n",
        "    try:\n",
        "        tasks = api.list_tasks()\n",
        "        print(\"Available Tasks:\")\n",
        "        for task in tasks:\n",
        "            print(task)\n",
        "    except Exception as e:\n",
        "        print(f\"Error listing tasks: {e}\")"
      ],
      "metadata": {
        "id": "zkKx93u6c6TB"
      },
      "execution_count": null,
      "outputs": []
    },
    {
      "cell_type": "markdown",
      "source": [
        "## Civitai"
      ],
      "metadata": {
        "id": "Uf1NaVzid0VI"
      }
    },
    {
      "cell_type": "markdown",
      "source": [
        "### Platform Analysis"
      ],
      "metadata": {
        "id": "tHSSLNyrzJiw"
      }
    },
    {
      "cell_type": "code",
      "source": [
        "\n",
        "drive.mount('/content/drive')\n",
        "\n",
        "def search_civitai_models(tag='Celebrity'):\n",
        "\n",
        "    base_url = 'https://civitai.com/api/v1/models'\n",
        "    all_model_data = []\n",
        "    cursor = None\n",
        "    total_items = 0\n",
        "\n",
        "    while True:\n",
        "        params = {\n",
        "            'tag': tag,\n",
        "            'limit': 100,\n",
        "            'cursor': cursor\n",
        "        }\n",
        "\n",
        "        try:\n",
        "            response = requests.get(base_url, params=params)\n",
        "            response.raise_for_status()\n",
        "            data = response.json()\n",
        "\n",
        "            if 'items' in data and data['items']:\n",
        "                current_items = len(data['items'])\n",
        "                total_items += current_items\n",
        "                print(f\"Fetching items with cursor: {cursor}, {current_items} items found on this request, {total_items} items found so far.\")\n",
        "\n",
        "                for model in data['items']:\n",
        "                    model_info = {\n",
        "                        'Model ID': model.get('id'),\n",
        "                        'Name': model.get('name'),\n",
        "                        'Type': model.get('type'),\n",
        "                        'Description': model.get('description', 'No description'),\n",
        "                        'nsfw': model.get('nsfw'),\n",
        "                        'nsfw level': model.get('nsfwLevel'),\n",
        "                        'minor': model.get('minor'),\n",
        "                        'tags': model.get('tags'),\n",
        "                        'favorites': model.get('stats', {}).get('favoriteCount', 0),\n",
        "                        'Thumbs Up': model.get('stats', {}).get('thumbsUpCount', 0),\n",
        "                        'Thumbs Down': model.get('stats', {}).get('thumbsDownCount', 0),\n",
        "                        'Creator': model.get('creator', {}).get('username'),\n",
        "                        'Downloads': model.get('stats', {}).get('downloadCount', 0),\n",
        "                        'Tipped amount': model.get('stats', {}).get('tippedAmountCount', 0),\n",
        "                        'Creator Name': model.get('creator', {}).get('username', 0),\n",
        "                        'Date created': model.get('modelVersions', [])[0].get('publishedAt') if model.get('modelVersions') and len(model.get('modelVersions')) > 0 else None,\n",
        "                        'Model URL': f\"https://civitai.com/models/{model.get('id')}\"\n",
        "                    }\n",
        "                    all_model_data.append(model_info)\n",
        "\n",
        "                metadata = data.get('metadata', {})\n",
        "                cursor = metadata.get('nextCursor')\n",
        "                if cursor is None:\n",
        "                    print(\"No more items found or 'nextCursor' missing. Stopping.\")\n",
        "                    break\n",
        "\n",
        "                time.sleep(0.2)\n",
        "\n",
        "            else:\n",
        "                print(f\"No more items found or 'items' key missing with cursor: {cursor}. Stopping.\")\n",
        "                break\n",
        "\n",
        "        except requests.RequestException as e:\n",
        "            print(f\"Error during API request: {e}\")\n",
        "            break\n",
        "\n",
        "    if all_model_data:\n",
        "        # Create df\n",
        "        df = pd.DataFrame(all_model_data)\n",
        "\n",
        "        # Remove duplicates based on model ID\n",
        "        df = df.drop_duplicates(subset='Model ID')\n",
        "\n",
        "        # Save to Drive\n",
        "        if not df.empty:\n",
        "            df.to_csv('/content/drive/My Drive/Celebrity_ALL_CIVITAI_19Jan.csv', index=False)\n",
        "            print(f\"\\nResults saved.\")\n",
        "\n",
        "        print(\"\\nList of Models:\")\n",
        "        for index, model in df.iterrows():\n",
        "            print(f\"{index + 1}. {model['Name']} (by {model['Creator']}) - Downloads: {model['Downloads']}\")\n",
        "\n",
        "        print(f\"\\nTotal unique models found: {len(df)}\")\n",
        "\n",
        "        return df\n",
        "    else:\n",
        "        print(\"No models found matching your criteria.\")\n",
        "        return pd.DataFrame()\n",
        "\n",
        "if __name__ == \"__main__\":\n",
        "    celebrity_models = search_civitai_models(\n",
        "        tag='Celebrity',\n",
        "    )"
      ],
      "metadata": {
        "id": "q_O33Y6UzIEe"
      },
      "execution_count": null,
      "outputs": []
    },
    {
      "cell_type": "markdown",
      "source": [
        "### Model Analysis"
      ],
      "metadata": {
        "id": "q91c0fZCzGIK"
      }
    },
    {
      "cell_type": "code",
      "source": [
        "\n",
        "def search_civitai_models(search_term='Flux', model_type='LORA'): # replace search term with model names of interest (e.g. \"Flux\", \"SD\")\n",
        "\n",
        "    base_url = 'https://civitai.com/api/v1/models'\n",
        "    all_model_data = []\n",
        "    cursor = None\n",
        "    total_items = 0\n",
        "\n",
        "    while True:\n",
        "        params = {\n",
        "            'query': search_term,\n",
        "            'types': model_type,\n",
        "            'limit': 100,\n",
        "            'cursor': cursor\n",
        "        }\n",
        "\n",
        "        try:\n",
        "            response = requests.get(base_url, params=params)\n",
        "            response.raise_for_status()\n",
        "            data = response.json()\n",
        "\n",
        "\n",
        "            if 'items' in data and data['items']:\n",
        "                current_items = len(data['items'])\n",
        "                total_items += current_items\n",
        "                print(f\"Fetching items with cursor: {cursor}, {current_items} items found on this request, {total_items} items found so far.\")\n",
        "\n",
        "                for model in data['items']:\n",
        "                    model_info = {\n",
        "                        'Model ID': model.get('id'),\n",
        "                        'Name': model.get('name'),\n",
        "                        'Type': model.get('type'),\n",
        "                        'Description': model.get('description', 'No description'),\n",
        "                        'nsfw': model.get('nsfw'),\n",
        "                        'nsfw level': model.get('nsfwLevel'),\n",
        "                        'minor': model.get('minor'),\n",
        "                        'favorites': model.get('stats', {}).get('favoriteCount', 0),\n",
        "                        'Thumbs Up': model.get('stats', {}).get('thumbsUpCount', 0),\n",
        "                        'Thumbs Down': model.get('stats', {}).get('thumbsDownCount', 0),\n",
        "                        'Creator': model.get('creator', {}).get('username'),\n",
        "                        'Downloads': model.get('stats', {}).get('downloadCount', 0),\n",
        "                        'Tipped amount': model.get('stats', {}).get('tippedAmountCount', 0),\n",
        "                        'Creator Name': model.get('creator', {}).get('username', 0),\n",
        "                        'Date created': model.get('modelVersions', [])[0].get('publishedAt') if model.get('modelVersions') and len(model.get('modelVersions')) > 0 else None,\n",
        "                        'Model URL': f\"https://civitai.com/models/{model.get('id')}\"\n",
        "                    }\n",
        "                    all_model_data.append(model_info)\n",
        "\n",
        "                metadata = data.get('metadata', {})\n",
        "                cursor = metadata.get('nextCursor')\n",
        "                if cursor is None:\n",
        "                    print(\"No more items found or 'nextCursor' missing. Stopping.\")\n",
        "                    break\n",
        "\n",
        "                time.sleep(0.2)\n",
        "\n",
        "            else:\n",
        "                print(f\"No more items found or 'items' key missing with cursor: {cursor}. Stopping.\")\n",
        "                break\n",
        "\n",
        "        except requests.RequestException as e:\n",
        "            print(f\"Error during API request: {e}\")\n",
        "            break\n",
        "\n",
        "    if all_model_data:\n",
        "        # Create df\n",
        "        df = pd.DataFrame(all_model_data)\n",
        "\n",
        "        # Remove duplicates based on Model ID\n",
        "        df = df.drop_duplicates(subset='Model ID')\n",
        "\n",
        "        # Save to Drive\n",
        "        if not df.empty:\n",
        "            df.to_csv('/content/drive/My Drive/name-your-file.csv', index=False) # change file name to your target path\n",
        "            print(f\"\\nResults saved.\")\n",
        "\n",
        "        # Print list of models\n",
        "        print(\"\\nList of Models:\")\n",
        "        for index, model in df.iterrows():\n",
        "            print(f\"{index + 1}. {model['Name']} (by {model['Creator']}) - Downloads: {model['Downloads']}\")\n",
        "\n",
        "        # Print total results\n",
        "        print(f\"\\nTotal unique models found: {len(df)}\")\n",
        "\n",
        "        return df\n",
        "    else:\n",
        "        print(\"No models found matching your criteria.\")\n",
        "        return pd.DataFrame()\n",
        "\n",
        "if __name__ == \"__main__\":\n",
        "    flux_models = search_civitai_models(\n",
        "        search_term='Flux',\n",
        "        model_type='LORA'\n",
        "    )"
      ],
      "metadata": {
        "id": "VzyShCefdjlu"
      },
      "execution_count": null,
      "outputs": []
    }
  ]
}